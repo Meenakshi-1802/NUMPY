{
 "cells": [
  {
   "cell_type": "code",
   "execution_count": 5,
   "id": "4104e4bd-2ed8-491d-99fa-3bcb2e837a58",
   "metadata": {},
   "outputs": [
    {
     "name": "stdout",
     "output_type": "stream",
     "text": [
      "[1 2 3 4]\n",
      "[1 2 6 3 4 6]\n"
     ]
    }
   ],
   "source": [
    "import numpy as np\n",
    "var = np.array([1,2,3,4])\n",
    "print(var)\n",
    "v = np.insert(var,(2,4),6)\n",
    "print(v)"
   ]
  },
  {
   "cell_type": "markdown",
   "id": "a0c0edbc-a6f2-4330-96ab-2322223a9317",
   "metadata": {},
   "source": [
    "Insert"
   ]
  },
  {
   "cell_type": "code",
   "execution_count": 11,
   "id": "4ff47a53-1627-4af4-9552-9b1f526ba83c",
   "metadata": {},
   "outputs": [
    {
     "name": "stdout",
     "output_type": "stream",
     "text": [
      "[[1 2 3]\n",
      " [1 2 3]]\n",
      "\n",
      "[[1 2 3]\n",
      " [1 2 3]\n",
      " [6 6 6]]\n"
     ]
    }
   ],
   "source": [
    "var1 = np.array([[1,2,3],[1,2,3]])\n",
    "v2 = np.insert(var1,2,6,axis = 0)\n",
    "print(var1)\n",
    "print()\n",
    "print(v2)"
   ]
  },
  {
   "cell_type": "markdown",
   "id": "d3eba5b7-1e83-40bd-b10b-bd25d933d325",
   "metadata": {},
   "source": [
    "Append"
   ]
  },
  {
   "cell_type": "code",
   "execution_count": 15,
   "id": "3456dd95-d548-4b0c-a1bd-627395f6a137",
   "metadata": {},
   "outputs": [
    {
     "name": "stdout",
     "output_type": "stream",
     "text": [
      "[1 2 3 4 5]\n",
      "\n",
      "[1 2 3 4 5 6]\n"
     ]
    }
   ],
   "source": [
    "import numpy as np\n",
    "v = np.array([1,2,3,4,5])\n",
    "print(v)\n",
    "print()\n",
    "v1 = np.append(v,6)\n",
    "print(v1)"
   ]
  },
  {
   "cell_type": "code",
   "execution_count": 19,
   "id": "e8108039-4492-4a63-ad25-470d3bdcba63",
   "metadata": {},
   "outputs": [
    {
     "name": "stdout",
     "output_type": "stream",
     "text": [
      "[[1 2 3]\n",
      " [4 5 6]]\n",
      "\n",
      "[[ 1  2  3]\n",
      " [ 4  5  6]\n",
      " [11 22 33]]\n"
     ]
    }
   ],
   "source": [
    "v2 = np.array([[1,2,3],[4,5,6]])\n",
    "print(v2)\n",
    "print()\n",
    "v3 = np.append(v2,[[11,22,33]],axis=0)\n",
    "print(v3)"
   ]
  },
  {
   "cell_type": "markdown",
   "id": "cb3153f8-cfc0-4410-82d7-b381267ab83c",
   "metadata": {},
   "source": [
    "Delete"
   ]
  },
  {
   "cell_type": "code",
   "execution_count": 22,
   "id": "ab96387f-5235-4f1d-ad1b-954528a0bda9",
   "metadata": {},
   "outputs": [],
   "source": [
    "import numpy as np\n",
    "var1 = np.array([1,2,3,4,5])\n",
    "print(var1)\n",
    "d = np.delete(var1,2)\n",
    "print(d)"
   ]
  }
 ],
 "metadata": {
  "kernelspec": {
   "display_name": "Python 3 (ipykernel)",
   "language": "python",
   "name": "python3"
  },
  "language_info": {
   "codemirror_mode": {
    "name": "ipython",
    "version": 3
   },
   "file_extension": ".py",
   "mimetype": "text/x-python",
   "name": "python",
   "nbconvert_exporter": "python",
   "pygments_lexer": "ipython3",
   "version": "3.12.7"
  }
 },
 "nbformat": 4,
 "nbformat_minor": 5
}
