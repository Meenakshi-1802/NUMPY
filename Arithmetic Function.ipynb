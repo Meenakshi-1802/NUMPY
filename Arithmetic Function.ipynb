{
 "cells": [
  {
   "cell_type": "markdown",
   "id": "d86d44b8-c7ca-4a03-9244-6821ff8db9e8",
   "metadata": {},
   "source": [
    "Arithmetic Functions"
   ]
  },
  {
   "cell_type": "code",
   "execution_count": 64,
   "id": "87712af8-8036-44c8-8a7f-5a114239e1a4",
   "metadata": {},
   "outputs": [
    {
     "name": "stdout",
     "output_type": "stream",
     "text": [
      "min: 1\n",
      "position: 2\n",
      "max: 5\n",
      "position: 4\n",
      "sqrt: [1.73205081 1.41421356 1.         2.         2.23606798 1.73205081\n",
      " 1.41421356]\n"
     ]
    }
   ],
   "source": [
    "import numpy as np\n",
    "var = np.array([3,2,1,4,5,3,2])\n",
    "print(\"min:\",np.min(var))\n",
    "print(\"position:\",np.argmin(var))\n",
    "print(\"max:\",np.max(var))\n",
    "print(\"position:\",np.argmax(var))\n",
    "print(\"sqrt:\",np.sqrt(var))"
   ]
  },
  {
   "cell_type": "code",
   "execution_count": 68,
   "id": "4249897f-809c-4c7d-ac19-bc606a044a1f",
   "metadata": {},
   "outputs": [
    {
     "name": "stdout",
     "output_type": "stream",
     "text": [
      "[0.90929743 0.84147098 0.14112001]\n",
      "[-0.41614684  0.54030231 -0.9899925 ]\n"
     ]
    }
   ],
   "source": [
    "varx = np.array([2,1,3])\n",
    "print(np.sin(varx))\n",
    "print(np.cos(varx))"
   ]
  },
  {
   "cell_type": "markdown",
   "id": "843f916b-c8d0-4400-a7b6-f30f5fdbd1bb",
   "metadata": {},
   "source": [
    "2D "
   ]
  },
  {
   "cell_type": "code",
   "execution_count": 62,
   "id": "f9a355f0-0caa-46d9-9380-6e84f5cd164a",
   "metadata": {},
   "outputs": [
    {
     "name": "stdout",
     "output_type": "stream",
     "text": [
      "[2 1 3]\n"
     ]
    }
   ],
   "source": [
    "var1 = np.array([[2,1,3],[9,5,6]])\n",
    "print(np.min(var1,axis = 0))"
   ]
  },
  {
   "cell_type": "code",
   "execution_count": 66,
   "id": "c1cbc242-6dc9-4c68-8398-f42d7d9471b4",
   "metadata": {},
   "outputs": [
    {
     "name": "stdout",
     "output_type": "stream",
     "text": [
      "[[ 0.90929743  0.84147098  0.14112001]\n",
      " [ 0.41211849 -0.95892427 -0.2794155 ]]\n",
      "[[-0.41614684  0.54030231 -0.9899925 ]\n",
      " [-0.91113026  0.28366219  0.96017029]]\n"
     ]
    }
   ],
   "source": [
    "var2 = np.array([[2,1,3],[9,5,6]])\n",
    "print(np.sin(var2))\n",
    "print(np.cos(var2))"
   ]
  },
  {
   "cell_type": "code",
   "execution_count": 70,
   "id": "6776dcfa-f7d5-4cd4-b3c0-e10447b5dd10",
   "metadata": {},
   "outputs": [
    {
     "name": "stdout",
     "output_type": "stream",
     "text": [
      "[ 4  9 15]\n"
     ]
    }
   ],
   "source": [
    "var3 = np.array([4,5,6])\n",
    "print(np.cumsum(var3))"
   ]
  },
  {
   "cell_type": "code",
   "execution_count": null,
   "id": "e13db8f0-44ef-44e9-bc53-1089f2aba408",
   "metadata": {},
   "outputs": [],
   "source": []
  }
 ],
 "metadata": {
  "kernelspec": {
   "display_name": "Python 3 (ipykernel)",
   "language": "python",
   "name": "python3"
  },
  "language_info": {
   "codemirror_mode": {
    "name": "ipython",
    "version": 3
   },
   "file_extension": ".py",
   "mimetype": "text/x-python",
   "name": "python",
   "nbconvert_exporter": "python",
   "pygments_lexer": "ipython3",
   "version": "3.12.7"
  }
 },
 "nbformat": 4,
 "nbformat_minor": 5
}
