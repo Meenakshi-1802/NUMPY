{
 "cells": [
  {
   "cell_type": "code",
   "execution_count": 9,
   "id": "c6bdf78d-0bdc-4a2c-a9c5-6158116b6eff",
   "metadata": {},
   "outputs": [
    {
     "data": {
      "text/plain": [
       "dtype('int32')"
      ]
     },
     "execution_count": 9,
     "metadata": {},
     "output_type": "execute_result"
    }
   ],
   "source": [
    "import numpy as np\n",
    "array1 = np.array([10,20,30,40])\n",
    "array1.dtype"
   ]
  },
  {
   "cell_type": "code",
   "execution_count": 11,
   "id": "31cc84a2-4574-4b2c-8053-69ab8af65695",
   "metadata": {},
   "outputs": [
    {
     "data": {
      "text/plain": [
       "dtype('<U5')"
      ]
     },
     "execution_count": 11,
     "metadata": {},
     "output_type": "execute_result"
    }
   ],
   "source": [
    "import numpy as np\n",
    "array1 = np.array([\"Ram\",\"Shyam\",\"Virat\"])\n",
    "array1.dtype"
   ]
  },
  {
   "cell_type": "code",
   "execution_count": 13,
   "id": "17fb05e2-6ceb-459e-af38-8645600f569d",
   "metadata": {},
   "outputs": [
    {
     "data": {
      "text/plain": [
       "dtype('S5')"
      ]
     },
     "execution_count": 13,
     "metadata": {},
     "output_type": "execute_result"
    }
   ],
   "source": [
    "import numpy as np\n",
    "array1 = np.array([\"Ram\",\"Shyam\",\"Virat\",\"Rohit\",\"Amit\"],dtype = \"S5\")\n",
    "array1.dtype"
   ]
  },
  {
   "cell_type": "code",
   "execution_count": 15,
   "id": "1abe9988-e170-42f3-84b4-2d31ed933cbb",
   "metadata": {},
   "outputs": [
    {
     "name": "stdout",
     "output_type": "stream",
     "text": [
      "['10' '20' '30' '40']\n",
      "[10 20 30 40]\n"
     ]
    },
    {
     "data": {
      "text/plain": [
       "dtype('int32')"
      ]
     },
     "execution_count": 15,
     "metadata": {},
     "output_type": "execute_result"
    }
   ],
   "source": [
    "import numpy as np\n",
    "array1 = np.array(['10','20','30','40'])\n",
    "print(array1)\n",
    "array1.dtype\n",
    "array2 = array1.astype('i')\n",
    "print(array2)\n",
    "array2.dtype"
   ]
  },
  {
   "cell_type": "code",
   "execution_count": null,
   "id": "9d693f9a-dafd-4e79-8415-655f3538cb35",
   "metadata": {},
   "outputs": [],
   "source": []
  }
 ],
 "metadata": {
  "kernelspec": {
   "display_name": "Python 3 (ipykernel)",
   "language": "python",
   "name": "python3"
  },
  "language_info": {
   "codemirror_mode": {
    "name": "ipython",
    "version": 3
   },
   "file_extension": ".py",
   "mimetype": "text/x-python",
   "name": "python",
   "nbconvert_exporter": "python",
   "pygments_lexer": "ipython3",
   "version": "3.12.7"
  }
 },
 "nbformat": 4,
 "nbformat_minor": 5
}
