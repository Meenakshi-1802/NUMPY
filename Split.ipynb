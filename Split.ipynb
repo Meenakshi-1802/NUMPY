{
 "cells": [
  {
   "cell_type": "markdown",
   "id": "75a0846c-4b4d-4a5f-b32e-ce36783072da",
   "metadata": {},
   "source": [
    "Split Array"
   ]
  },
  {
   "cell_type": "code",
   "execution_count": 21,
   "id": "d1510188-c6de-4542-b238-f2cf776e257b",
   "metadata": {},
   "outputs": [
    {
     "name": "stdout",
     "output_type": "stream",
     "text": [
      "[1 2 3 4 5 6]\n",
      "\n",
      "[array([1, 2]), array([3, 4]), array([5, 6])]\n"
     ]
    }
   ],
   "source": [
    "import numpy as np\n",
    "var = np.array([1,2,3,4,5,6])\n",
    "print(var)\n",
    "ar = np.array_split(var,3)\n",
    "print()\n",
    "print(ar)\n"
   ]
  },
  {
   "cell_type": "code",
   "execution_count": 23,
   "id": "3df0027c-c19b-45f5-80f7-d3879b285c5d",
   "metadata": {},
   "outputs": [
    {
     "name": "stdout",
     "output_type": "stream",
     "text": [
      "[[1 2]\n",
      " [3 4]\n",
      " [5 6]]\n",
      "\n",
      "[array([[1, 2]]), array([[3, 4]]), array([[5, 6]])]\n",
      "\n",
      "[array([[1],\n",
      "       [3],\n",
      "       [5]]), array([[2],\n",
      "       [4],\n",
      "       [6]]), array([], shape=(3, 0), dtype=int32)]\n"
     ]
    }
   ],
   "source": [
    "var1 = np.array([[1,2],[3,4],[5,6]])\n",
    "print(var1)\n",
    "a = np.array_split(var1,3)\n",
    "b = np.array_split(var1,3,axis = 1)\n",
    "print()\n",
    "print(a)\n",
    "print()\n",
    "print(b)\n"
   ]
  },
  {
   "cell_type": "code",
   "execution_count": null,
   "id": "f7de4821-2522-40eb-9623-70e00191ef25",
   "metadata": {},
   "outputs": [],
   "source": []
  }
 ],
 "metadata": {
  "kernelspec": {
   "display_name": "Python 3 (ipykernel)",
   "language": "python",
   "name": "python3"
  },
  "language_info": {
   "codemirror_mode": {
    "name": "ipython",
    "version": 3
   },
   "file_extension": ".py",
   "mimetype": "text/x-python",
   "name": "python",
   "nbconvert_exporter": "python",
   "pygments_lexer": "ipython3",
   "version": "3.12.7"
  }
 },
 "nbformat": 4,
 "nbformat_minor": 5
}
