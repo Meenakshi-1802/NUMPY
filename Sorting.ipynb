{
 "cells": [
  {
   "cell_type": "markdown",
   "id": "216ccd2c-4d79-4906-b98b-481d9eb82353",
   "metadata": {},
   "source": [
    "Search"
   ]
  },
  {
   "cell_type": "code",
   "execution_count": 36,
   "id": "a4776cec-81d1-4a2d-bae9-3bf1cf5cc62b",
   "metadata": {},
   "outputs": [
    {
     "name": "stdout",
     "output_type": "stream",
     "text": [
      "(array([1, 4, 6], dtype=int64),)\n"
     ]
    }
   ],
   "source": [
    "import numpy as np\n",
    "var = np.array([1,2,3,4,2,5,2,5,6,7])\n",
    "x = np.where(var == 2)\n",
    "print(x)"
   ]
  },
  {
   "cell_type": "markdown",
   "id": "d3000a28-214b-48e4-977f-ac543a009457",
   "metadata": {},
   "source": [
    "Search sorted array"
   ]
  },
  {
   "cell_type": "code",
   "execution_count": 39,
   "id": "f34776d6-c615-4b1a-9a90-1a1c6f902de3",
   "metadata": {},
   "outputs": [
    {
     "name": "stdout",
     "output_type": "stream",
     "text": [
      "[4 5 6]\n"
     ]
    }
   ],
   "source": [
    "var1 = np.array([1,2,3,4,6,7,8,9,10])\n",
    "x1 = np.searchsorted(var1,[5,6,7],side = \"right\")\n",
    "print(x1)"
   ]
  },
  {
   "cell_type": "markdown",
   "id": "96e61ba4-0aa4-409d-a8cd-835ad2c87040",
   "metadata": {},
   "source": [
    "Sort"
   ]
  },
  {
   "cell_type": "code",
   "execution_count": 42,
   "id": "e69783a9-bd66-4c5b-b0ea-14147b0486ea",
   "metadata": {},
   "outputs": [
    {
     "name": "stdout",
     "output_type": "stream",
     "text": [
      "[ 0  1  2  3  4  5  6  7  8  9 10 11 15 20 33]\n"
     ]
    }
   ],
   "source": [
    "a = np.array([4,5,3,2,7,8,6,11,9,10,15,20,33,1,0])\n",
    "print(np.sort(a))"
   ]
  },
  {
   "cell_type": "markdown",
   "id": "64a33219-a330-449a-bee4-00a4a24b9807",
   "metadata": {},
   "source": [
    "Filter Array"
   ]
  },
  {
   "cell_type": "code",
   "execution_count": 45,
   "id": "ff452a07-eac0-4f26-8b6b-d0af288d4a10",
   "metadata": {},
   "outputs": [
    {
     "name": "stdout",
     "output_type": "stream",
     "text": [
      "[1 3]\n"
     ]
    }
   ],
   "source": [
    "x = np.array([1,2,3,4])\n",
    "f = [True,False,True,False]\n",
    "new = x[f]\n",
    "print(new)"
   ]
  },
  {
   "cell_type": "code",
   "execution_count": null,
   "id": "d111061e-4c3b-4801-af0a-d109d002e26c",
   "metadata": {},
   "outputs": [],
   "source": []
  }
 ],
 "metadata": {
  "kernelspec": {
   "display_name": "Python 3 (ipykernel)",
   "language": "python",
   "name": "python3"
  },
  "language_info": {
   "codemirror_mode": {
    "name": "ipython",
    "version": 3
   },
   "file_extension": ".py",
   "mimetype": "text/x-python",
   "name": "python",
   "nbconvert_exporter": "python",
   "pygments_lexer": "ipython3",
   "version": "3.12.7"
  }
 },
 "nbformat": 4,
 "nbformat_minor": 5
}
