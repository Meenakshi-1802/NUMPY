{
 "cells": [
  {
   "cell_type": "code",
   "execution_count": 7,
   "id": "7a2c9517-0dd4-4840-bdba-d399b3329adc",
   "metadata": {},
   "outputs": [
    {
     "name": "stdout",
     "output_type": "stream",
     "text": [
      "[40 50 60]\n",
      "[20 50 80]\n",
      "[[40 50 60]\n",
      " [70 80 90]]\n",
      "[[20 30]\n",
      " [50 60]\n",
      " [80 90]]\n",
      "[50 80]\n",
      "[[40]\n",
      " [70]]\n"
     ]
    }
   ],
   "source": [
    "import numpy as np\n",
    "array1 = np.array([[10,20,30],[40,50,60],[70,80,90]])\n",
    "print(array1[1,])\n",
    "print(array1[:,1])\n",
    "print(array1[1:3,])\n",
    "print(array1[:,1:3])\n",
    "print(array1[1:3,1])\n",
    "print(array1[1:3,:1])"
   ]
  },
  {
   "cell_type": "code",
   "execution_count": null,
   "id": "1e34eb88-ee42-483c-aeaa-57e9e9137503",
   "metadata": {},
   "outputs": [],
   "source": []
  }
 ],
 "metadata": {
  "kernelspec": {
   "display_name": "Python 3 (ipykernel)",
   "language": "python",
   "name": "python3"
  },
  "language_info": {
   "codemirror_mode": {
    "name": "ipython",
    "version": 3
   },
   "file_extension": ".py",
   "mimetype": "text/x-python",
   "name": "python",
   "nbconvert_exporter": "python",
   "pygments_lexer": "ipython3",
   "version": "3.12.7"
  }
 },
 "nbformat": 4,
 "nbformat_minor": 5
}
