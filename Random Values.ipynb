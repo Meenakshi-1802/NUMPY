{
 "cells": [
  {
   "cell_type": "code",
   "execution_count": 1,
   "id": "f9ba866e-9351-4cf9-8767-0559b0adb1f5",
   "metadata": {},
   "outputs": [
    {
     "name": "stdout",
     "output_type": "stream",
     "text": [
      "[ 0.43673052 -0.57441662  1.20116041 -0.49384985  0.89881653]\n"
     ]
    }
   ],
   "source": [
    "import numpy as np\n",
    "var = np.random.randn(5)\n",
    "print(var)"
   ]
  },
  {
   "cell_type": "code",
   "execution_count": 3,
   "id": "0fe52a15-0976-4b99-ab05-23f9699422cf",
   "metadata": {},
   "outputs": [
    {
     "name": "stdout",
     "output_type": "stream",
     "text": [
      "[0.46613769 0.34309446 0.22288379 0.82517074 0.05615624 0.10265727\n",
      " 0.03291943]\n"
     ]
    }
   ],
   "source": [
    "var1 = np.random.ranf(7)\n",
    "print(var1)"
   ]
  },
  {
   "cell_type": "code",
   "execution_count": 5,
   "id": "f9b969ef-ce9d-4571-ae14-47ac2de3fc95",
   "metadata": {},
   "outputs": [
    {
     "name": "stdout",
     "output_type": "stream",
     "text": [
      "[18 33  7 16]\n"
     ]
    }
   ],
   "source": [
    "var2 = np.random.randint(3,40,4)\n",
    "print(var2)"
   ]
  },
  {
   "cell_type": "code",
   "execution_count": null,
   "id": "1a5d094c-3e6e-46bc-8832-def87276279c",
   "metadata": {},
   "outputs": [],
   "source": []
  }
 ],
 "metadata": {
  "kernelspec": {
   "display_name": "Python 3 (ipykernel)",
   "language": "python",
   "name": "python3"
  },
  "language_info": {
   "codemirror_mode": {
    "name": "ipython",
    "version": 3
   },
   "file_extension": ".py",
   "mimetype": "text/x-python",
   "name": "python",
   "nbconvert_exporter": "python",
   "pygments_lexer": "ipython3",
   "version": "3.12.7"
  }
 },
 "nbformat": 4,
 "nbformat_minor": 5
}
