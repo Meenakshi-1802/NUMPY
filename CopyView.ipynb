{
 "cells": [
  {
   "cell_type": "markdown",
   "id": "c6e14148-b622-4ce3-993a-02cc7e0f8cd5",
   "metadata": {},
   "source": [
    "Copy vs View"
   ]
  },
  {
   "cell_type": "code",
   "execution_count": 87,
   "id": "0348caab-7efc-4aea-84a1-af5a02c51820",
   "metadata": {},
   "outputs": [
    {
     "name": "stdout",
     "output_type": "stream",
     "text": [
      "var : [1 2 3 4]\n",
      "copy: [1 2 3 4]\n"
     ]
    }
   ],
   "source": [
    "import numpy as np\n",
    "var = np.array([1,2,3,4])\n",
    "co = var.copy()\n",
    "print(\"var :\",var)\n",
    "print(\"copy:\",co)"
   ]
  },
  {
   "cell_type": "code",
   "execution_count": 89,
   "id": "323f2ce6-4e2e-45e2-b2fc-9ae94d93e8a7",
   "metadata": {},
   "outputs": [
    {
     "name": "stdout",
     "output_type": "stream",
     "text": [
      "x: [9 8 7 6 5]\n",
      "view: [9 8 7 6 5]\n"
     ]
    }
   ],
   "source": [
    "x = np.array([9,8,7,6,5])\n",
    "vi = x.view()\n",
    "print(\"x:\",x)\n",
    "print(\"view:\",vi)"
   ]
  },
  {
   "cell_type": "code",
   "execution_count": null,
   "id": "e26ff2aa-e2a8-4db8-a05d-0c45104be06d",
   "metadata": {},
   "outputs": [],
   "source": []
  }
 ],
 "metadata": {
  "kernelspec": {
   "display_name": "Python 3 (ipykernel)",
   "language": "python",
   "name": "python3"
  },
  "language_info": {
   "codemirror_mode": {
    "name": "ipython",
    "version": 3
   },
   "file_extension": ".py",
   "mimetype": "text/x-python",
   "name": "python",
   "nbconvert_exporter": "python",
   "pygments_lexer": "ipython3",
   "version": "3.12.7"
  }
 },
 "nbformat": 4,
 "nbformat_minor": 5
}
