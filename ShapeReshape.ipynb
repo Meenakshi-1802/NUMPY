{
 "cells": [
  {
   "cell_type": "code",
   "execution_count": 3,
   "id": "f31c29fb-dc0c-49a0-9ce2-9d3833c0cadc",
   "metadata": {},
   "outputs": [
    {
     "name": "stdout",
     "output_type": "stream",
     "text": [
      "[[1 2 3 4 5]\n",
      " [6 7 8 9 1]]\n",
      "\n",
      "(2, 5)\n"
     ]
    }
   ],
   "source": [
    "import numpy as np\n",
    "var = np.array([[1,2,3,4,5],[6,7,8,9,1]])\n",
    "print(var)\n",
    "print()\n",
    "print(var.shape)"
   ]
  },
  {
   "cell_type": "code",
   "execution_count": 5,
   "id": "26de177b-d1c2-4cd7-8994-be50f36f2f6c",
   "metadata": {},
   "outputs": [
    {
     "name": "stdout",
     "output_type": "stream",
     "text": [
      "[[[[1 2 3]\n",
      "   [1 2 3]\n",
      "   [4 5 6]\n",
      "   [2 3 4]]]]\n",
      "\n",
      "4\n",
      "\n",
      "(1, 1, 4, 3)\n"
     ]
    }
   ],
   "source": [
    "var1 = np.array([[[[1,2,3],[1,2,3],[4,5,6],[2,3,4]]]])\n",
    "print(var1)\n",
    "print()\n",
    "print(var1.ndim)\n",
    "print()\n",
    "print(var1.shape)\n"
   ]
  },
  {
   "cell_type": "code",
   "execution_count": 7,
   "id": "d39493fc-c111-417c-8532-e80a9d66b26e",
   "metadata": {},
   "outputs": [
    {
     "name": "stdout",
     "output_type": "stream",
     "text": [
      "[1 2 3 4 5 6]\n",
      "\n",
      "1\n",
      "\n",
      "[[1 2]\n",
      " [3 4]\n",
      " [5 6]]\n",
      "2\n"
     ]
    }
   ],
   "source": [
    "var2 = np.array([1,2,3,4,5,6])\n",
    "print(var2)\n",
    "print()\n",
    "print(var2.ndim)\n",
    "print()\n",
    "x = var2.reshape(3,2)\n",
    "print(x)\n",
    "print(x.ndim)"
   ]
  },
  {
   "cell_type": "code",
   "execution_count": null,
   "id": "ab61c06c-dd27-4665-8d77-09f6f71c9e4d",
   "metadata": {},
   "outputs": [],
   "source": []
  }
 ],
 "metadata": {
  "kernelspec": {
   "display_name": "Python 3 (ipykernel)",
   "language": "python",
   "name": "python3"
  },
  "language_info": {
   "codemirror_mode": {
    "name": "ipython",
    "version": 3
   },
   "file_extension": ".py",
   "mimetype": "text/x-python",
   "name": "python",
   "nbconvert_exporter": "python",
   "pygments_lexer": "ipython3",
   "version": "3.12.7"
  }
 },
 "nbformat": 4,
 "nbformat_minor": 5
}
