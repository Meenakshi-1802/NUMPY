{
 "cells": [
  {
   "cell_type": "markdown",
   "id": "a0c8415e-f1b7-4999-9d2b-18466f826681",
   "metadata": {},
   "source": [
    "Join Array\n"
   ]
  },
  {
   "cell_type": "code",
   "execution_count": 4,
   "id": "17a82c19-c689-4f51-812f-8e047bd28564",
   "metadata": {},
   "outputs": [
    {
     "name": "stdout",
     "output_type": "stream",
     "text": [
      "[1 2 3 4 9 8 7 6]\n"
     ]
    }
   ],
   "source": [
    "import numpy as np\n",
    "var = np.array([1,2,3,4])\n",
    "var1 = np.array([9,8,7,6])\n",
    "ar = np.concatenate((var,var1))\n",
    "print(ar)"
   ]
  },
  {
   "cell_type": "code",
   "execution_count": 12,
   "id": "025d2cd2-1c70-48f3-abdd-0b31c4b9df39",
   "metadata": {},
   "outputs": [
    {
     "name": "stdout",
     "output_type": "stream",
     "text": [
      "[[1 2]\n",
      " [3 4]]\n",
      "\n",
      "[[9 8]\n",
      " [7 6]]\n",
      "\n",
      "[[1 2 9 8]\n",
      " [3 4 7 6]]\n"
     ]
    }
   ],
   "source": [
    "vr = np.array([[1,2],[3,4]])\n",
    "vr1 = np.array([[9,8],[7,6]])\n",
    "ar1 = np.concatenate((vr,vr1),axis=1)\n",
    "print(vr)\n",
    "print()\n",
    "print(vr1)\n",
    "print()\n",
    "print(ar1)"
   ]
  },
  {
   "cell_type": "code",
   "execution_count": 16,
   "id": "28cbb806-89e4-4a10-9900-f12b93d53905",
   "metadata": {},
   "outputs": [
    {
     "name": "stdout",
     "output_type": "stream",
     "text": [
      "[[1 2]\n",
      " [3 4]]\n",
      "\n",
      "[[9 8]\n",
      " [7 6]]\n",
      "\n",
      "[[1 2]\n",
      " [3 4]\n",
      " [9 8]\n",
      " [7 6]]\n"
     ]
    }
   ],
   "source": [
    "vr = np.array([[1,2],[3,4]])\n",
    "vr1 = np.array([[9,8],[7,6]])\n",
    "ar1 = np.concatenate((vr,vr1),axis=0)\n",
    "print(vr)\n",
    "print()\n",
    "print(vr1)\n",
    "print()\n",
    "print(ar1)"
   ]
  },
  {
   "cell_type": "code",
   "execution_count": 18,
   "id": "bfa9b13e-354a-4b69-a1ff-e7caa3bf4135",
   "metadata": {},
   "outputs": [
    {
     "name": "stdout",
     "output_type": "stream",
     "text": [
      "[[1 2 3 4]\n",
      " [9 8 7 6]]\n",
      "\n",
      "[1 2 3 4 9 8 7 6]\n",
      "\n",
      "[[1 2 3 4]\n",
      " [9 8 7 6]]\n",
      "\n",
      "[[[1 9]\n",
      "  [2 8]\n",
      "  [3 7]\n",
      "  [4 6]]]\n"
     ]
    }
   ],
   "source": [
    "a = np.array([1,2,3,4])\n",
    "b = np.array([9,8,7,6])\n",
    "c = np.stack((a,b),axis = 0)\n",
    "d = np.hstack((a,b)) #row\n",
    "e = np.vstack((a,b)) #colums\n",
    "f = np.dstack((a,b)) #height\n",
    "\n",
    "print(c)\n",
    "print()\n",
    "print(d)\n",
    "print()\n",
    "print(e)\n",
    "print()\n",
    "print(f)"
   ]
  },
  {
   "cell_type": "code",
   "execution_count": null,
   "id": "8afc2eb8-ee08-4f6d-998b-55cd3eeae51b",
   "metadata": {},
   "outputs": [],
   "source": []
  }
 ],
 "metadata": {
  "kernelspec": {
   "display_name": "Python 3 (ipykernel)",
   "language": "python",
   "name": "python3"
  },
  "language_info": {
   "codemirror_mode": {
    "name": "ipython",
    "version": 3
   },
   "file_extension": ".py",
   "mimetype": "text/x-python",
   "name": "python",
   "nbconvert_exporter": "python",
   "pygments_lexer": "ipython3",
   "version": "3.12.7"
  }
 },
 "nbformat": 4,
 "nbformat_minor": 5
}
