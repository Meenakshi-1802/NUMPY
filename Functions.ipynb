{
 "cells": [
  {
   "cell_type": "markdown",
   "id": "d65b9096-ce1b-4c26-823a-1ba55c52870c",
   "metadata": {},
   "source": [
    "Shuffle\n"
   ]
  },
  {
   "cell_type": "code",
   "execution_count": 48,
   "id": "a098d921-5ad5-403d-a569-1114ed5c5819",
   "metadata": {},
   "outputs": [
    {
     "name": "stdout",
     "output_type": "stream",
     "text": [
      "[1 5 4 2 3]\n"
     ]
    }
   ],
   "source": [
    "import numpy as np\n",
    "var = np.array([1,2,3,4,5])\n",
    "np.random.shuffle(var)\n",
    "print(var)"
   ]
  },
  {
   "cell_type": "markdown",
   "id": "8099dac0-d6b7-498e-8c3c-7eacb861d0b7",
   "metadata": {},
   "source": [
    "Unique"
   ]
  },
  {
   "cell_type": "code",
   "execution_count": 51,
   "id": "dc1b953b-2d4a-4788-bf8a-b61cf0ebbc50",
   "metadata": {},
   "outputs": [
    {
     "name": "stdout",
     "output_type": "stream",
     "text": [
      "[1 2 3 4 5 6 7]\n"
     ]
    }
   ],
   "source": [
    "var1 = np.array([1,2,3,4,2,5,2,6,2,7])\n",
    "x = np.unique(var1)\n",
    "print(x)"
   ]
  },
  {
   "cell_type": "markdown",
   "id": "e71bf801-c29f-47c0-a85d-3c7ab256310d",
   "metadata": {},
   "source": [
    "Resize"
   ]
  },
  {
   "cell_type": "code",
   "execution_count": 54,
   "id": "8a7bc93b-f66b-492d-92ee-279435799d29",
   "metadata": {},
   "outputs": [
    {
     "name": "stdout",
     "output_type": "stream",
     "text": [
      "[[1 2 3]\n",
      " [4 5 6]]\n"
     ]
    }
   ],
   "source": [
    "var2 = np.array([1,2,3,4,5,6])\n",
    "y = np.resize(var2,(2,3))\n",
    "print(y)"
   ]
  },
  {
   "cell_type": "markdown",
   "id": "8fecb002-063b-4df5-82be-1ce97115e184",
   "metadata": {},
   "source": [
    "Flatten"
   ]
  },
  {
   "cell_type": "code",
   "execution_count": 63,
   "id": "4e40f804-f9ee-486e-9e62-5a5cda4da6d0",
   "metadata": {},
   "outputs": [
    {
     "name": "stdout",
     "output_type": "stream",
     "text": [
      "[[1 2 3]\n",
      " [4 5 6]]\n",
      "\n",
      "[1 4 2 5 3 6]\n",
      "[1 2 3 4 5 6]\n",
      "[1 2 3 4 5 6]\n",
      "[1 2 3 4 5 6]\n"
     ]
    }
   ],
   "source": [
    "var2 = np.array([1,2,3,4,5,6])\n",
    "y = np.resize(var2,(2,3))\n",
    "print(y)\n",
    "print()\n",
    "print(y.flatten(order = \"F\"))#column\n",
    "print(y.flatten(order = \"C\"))#row\n",
    "print(y.flatten(order = \"A\"))\n",
    "print(y.flatten(order = \"K\"))\n"
   ]
  },
  {
   "cell_type": "markdown",
   "id": "d77d6b70-3d79-4e9d-aff3-1dca579fd386",
   "metadata": {},
   "source": [
    "Ravel"
   ]
  },
  {
   "cell_type": "code",
   "execution_count": 66,
   "id": "e9a2092b-511d-41a9-a160-8dc4632cfccf",
   "metadata": {},
   "outputs": [
    {
     "name": "stdout",
     "output_type": "stream",
     "text": [
      "[[1 2 3]\n",
      " [4 5 6]]\n",
      "\n",
      "[1 2 3 4 5 6]\n"
     ]
    }
   ],
   "source": [
    "var2 = np.array([1,2,3,4,5,6])\n",
    "y = np.resize(var2,(2,3))\n",
    "print(y)\n",
    "print()\n",
    "print(np.ravel(y,order=\"A\"))"
   ]
  },
  {
   "cell_type": "code",
   "execution_count": null,
   "id": "c2f0a6c3-4c80-40fe-9416-d3704a5c87f2",
   "metadata": {},
   "outputs": [],
   "source": []
  }
 ],
 "metadata": {
  "kernelspec": {
   "display_name": "Python 3 (ipykernel)",
   "language": "python",
   "name": "python3"
  },
  "language_info": {
   "codemirror_mode": {
    "name": "ipython",
    "version": 3
   },
   "file_extension": ".py",
   "mimetype": "text/x-python",
   "name": "python",
   "nbconvert_exporter": "python",
   "pygments_lexer": "ipython3",
   "version": "3.12.7"
  }
 },
 "nbformat": 4,
 "nbformat_minor": 5
}
