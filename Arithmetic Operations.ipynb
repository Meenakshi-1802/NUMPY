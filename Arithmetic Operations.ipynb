{
 "cells": [
  {
   "cell_type": "markdown",
   "id": "4f2935f7-6d94-42a8-b073-55d97299258d",
   "metadata": {},
   "source": [
    "Arithmetic Operation"
   ]
  },
  {
   "cell_type": "code",
   "execution_count": 11,
   "id": "56a0976e-b9ac-4ef6-8a72-b0b642d9522d",
   "metadata": {},
   "outputs": [
    {
     "name": "stdout",
     "output_type": "stream",
     "text": [
      "[4 5 6 7]\n"
     ]
    }
   ],
   "source": [
    "import numpy as np\n",
    "var = np.array([1,2,3,4])\n",
    "varadd = var + 3\n",
    "print(varadd)"
   ]
  },
  {
   "cell_type": "code",
   "execution_count": 15,
   "id": "2d830cfa-4f61-42d0-8479-dc4213b56112",
   "metadata": {},
   "outputs": [
    {
     "name": "stdout",
     "output_type": "stream",
     "text": [
      "[3 5 7 9]\n"
     ]
    }
   ],
   "source": [
    "var1 = np.array([1,2,3,4])\n",
    "var2 = np.array([2,3,4,5])\n",
    "varadd = var1 + var2\n",
    "print(varadd)"
   ]
  },
  {
   "cell_type": "code",
   "execution_count": 17,
   "id": "9ef35630-233c-490b-b2f7-373b8acc2157",
   "metadata": {},
   "outputs": [
    {
     "name": "stdout",
     "output_type": "stream",
     "text": [
      "[-2 -1  0  1]\n"
     ]
    }
   ],
   "source": [
    "import numpy as np\n",
    "var = np.array([1,2,3,4])\n",
    "varsub = var - 3\n",
    "print(varsub)"
   ]
  },
  {
   "cell_type": "code",
   "execution_count": 19,
   "id": "f4273184-04cd-4eec-ac03-f1118d865887",
   "metadata": {},
   "outputs": [
    {
     "name": "stdout",
     "output_type": "stream",
     "text": [
      "[-1 -1 -1 -1]\n"
     ]
    }
   ],
   "source": [
    "var1 = np.array([1,2,3,4])\n",
    "var2 = np.array([2,3,4,5])\n",
    "varsub = var1 - var2\n",
    "print(varsub)"
   ]
  },
  {
   "cell_type": "code",
   "execution_count": 21,
   "id": "fe90664d-1457-43e4-92ab-5818989bc9d7",
   "metadata": {},
   "outputs": [
    {
     "name": "stdout",
     "output_type": "stream",
     "text": [
      "[ 3  6  9 12]\n"
     ]
    }
   ],
   "source": [
    "import numpy as np\n",
    "var = np.array([1,2,3,4])\n",
    "varmul = var * 3\n",
    "print(varmul)"
   ]
  },
  {
   "cell_type": "code",
   "execution_count": 23,
   "id": "2438c173-530a-469d-be6c-d3004624e07a",
   "metadata": {},
   "outputs": [
    {
     "name": "stdout",
     "output_type": "stream",
     "text": [
      "[ 2  6 12 20]\n"
     ]
    }
   ],
   "source": [
    "var1 = np.array([1,2,3,4])\n",
    "var2 = np.array([2,3,4,5])\n",
    "varmul = var1 * var2\n",
    "print(varmul)"
   ]
  },
  {
   "cell_type": "code",
   "execution_count": 27,
   "id": "288bba3d-6bb0-4025-81b0-69c91092fb2c",
   "metadata": {},
   "outputs": [
    {
     "name": "stdout",
     "output_type": "stream",
     "text": [
      "[0.33333333 0.66666667 1.         1.33333333]\n"
     ]
    }
   ],
   "source": [
    "import numpy as np\n",
    "var = np.array([1,2,3,4])\n",
    "vardivide = var/3\n",
    "print(vardivide)"
   ]
  },
  {
   "cell_type": "code",
   "execution_count": 29,
   "id": "7400e693-217c-4df2-aa08-cf88996ced5b",
   "metadata": {},
   "outputs": [
    {
     "name": "stdout",
     "output_type": "stream",
     "text": [
      "[0.5        0.66666667 0.75       0.8       ]\n"
     ]
    }
   ],
   "source": [
    "var1 = np.array([1,2,3,4])\n",
    "var2 = np.array([2,3,4,5])\n",
    "vardivide = var1 / var2\n",
    "print(vardivide)"
   ]
  },
  {
   "cell_type": "code",
   "execution_count": 31,
   "id": "0bbcaa2a-c78a-49e5-a8e7-5dba198aeb1e",
   "metadata": {},
   "outputs": [
    {
     "name": "stdout",
     "output_type": "stream",
     "text": [
      "[1 2 0 1]\n"
     ]
    }
   ],
   "source": [
    "import numpy as np\n",
    "var = np.array([1,2,3,4])\n",
    "varmod = var % 3\n",
    "print(varmod)"
   ]
  },
  {
   "cell_type": "code",
   "execution_count": 35,
   "id": "fa41c739-d618-4714-b252-bd38cd8f70cf",
   "metadata": {},
   "outputs": [
    {
     "name": "stdout",
     "output_type": "stream",
     "text": [
      "[1 2 3 4]\n"
     ]
    }
   ],
   "source": [
    "var1 = np.array([1,2,3,4])\n",
    "var2 = np.array([2,3,4,5])\n",
    "varmod = var1 % var2\n",
    "print(varmod)"
   ]
  },
  {
   "cell_type": "code",
   "execution_count": 39,
   "id": "933d6196-de99-4ecc-ba25-172980094841",
   "metadata": {},
   "outputs": [
    {
     "name": "stdout",
     "output_type": "stream",
     "text": [
      "[ 1  8 27 64]\n"
     ]
    }
   ],
   "source": [
    "import numpy as np\n",
    "var = np.array([1,2,3,4])\n",
    "varpower = var ** 3\n",
    "print(varpower)"
   ]
  },
  {
   "cell_type": "code",
   "execution_count": 41,
   "id": "2836df67-31d6-45b6-8562-28abb1f52a8f",
   "metadata": {},
   "outputs": [
    {
     "name": "stdout",
     "output_type": "stream",
     "text": [
      "[   1    8   81 1024]\n"
     ]
    }
   ],
   "source": [
    "var1 = np.array([1,2,3,4])\n",
    "var2 = np.array([2,3,4,5])\n",
    "varpower = var1 ** var2\n",
    "print(varpower)"
   ]
  },
  {
   "cell_type": "code",
   "execution_count": 46,
   "id": "56edb6d2-3940-41c4-a038-39c3e3e60d47",
   "metadata": {},
   "outputs": [
    {
     "name": "stdout",
     "output_type": "stream",
     "text": [
      "[1 0 0 0]\n"
     ]
    }
   ],
   "source": [
    "import numpy as np\n",
    "var = np.array([1,2,3,4])\n",
    "varrecipro = np.reciprocal(var)\n",
    "print(varrecipro)"
   ]
  },
  {
   "cell_type": "markdown",
   "id": "78ca5202-dd7c-4e69-8ce1-6254549313c9",
   "metadata": {},
   "source": [
    "2D array"
   ]
  },
  {
   "cell_type": "code",
   "execution_count": 44,
   "id": "7a5bfe79-241e-4ebe-851e-1561d3d4340c",
   "metadata": {},
   "outputs": [
    {
     "name": "stdout",
     "output_type": "stream",
     "text": [
      "[[ 3  5  7  9]\n",
      " [ 5  7  9 11]]\n"
     ]
    }
   ],
   "source": [
    "var11 = np.array([[2,3,4,5],[1,2,3,4]])\n",
    "var22 = np.array([[1,2,3,4],[4,5,6,7]])\n",
    "varadd1 = var11 + var22\n",
    "print(varadd1)"
   ]
  },
  {
   "cell_type": "code",
   "execution_count": 48,
   "id": "9f1b5408-547c-43b1-a17b-e6d9fade5efe",
   "metadata": {},
   "outputs": [
    {
     "name": "stdout",
     "output_type": "stream",
     "text": [
      "[[ 1  1  1  1]\n",
      " [-3 -3 -3 -3]]\n"
     ]
    }
   ],
   "source": [
    "var11 = np.array([[2,3,4,5],[1,2,3,4]])\n",
    "var22 = np.array([[1,2,3,4],[4,5,6,7]])\n",
    "varsub1 = var11 - var22\n",
    "print(varsub1)"
   ]
  },
  {
   "cell_type": "code",
   "execution_count": 50,
   "id": "906d0426-1d54-455c-815e-70bc58a51d1d",
   "metadata": {},
   "outputs": [
    {
     "name": "stdout",
     "output_type": "stream",
     "text": [
      "[[ 2  6 12 20]\n",
      " [ 4 10 18 28]]\n"
     ]
    }
   ],
   "source": [
    "var11 = np.array([[2,3,4,5],[1,2,3,4]])\n",
    "var22 = np.array([[1,2,3,4],[4,5,6,7]])\n",
    "varmul1 = var11 * var22\n",
    "print(varmul1)"
   ]
  },
  {
   "cell_type": "code",
   "execution_count": 52,
   "id": "5b2a1841-b680-4b4a-b9d0-a9fb08dec51c",
   "metadata": {},
   "outputs": [
    {
     "name": "stdout",
     "output_type": "stream",
     "text": [
      "[[2.         1.5        1.33333333 1.25      ]\n",
      " [0.25       0.4        0.5        0.57142857]]\n"
     ]
    }
   ],
   "source": [
    "var11 = np.array([[2,3,4,5],[1,2,3,4]])\n",
    "var22 = np.array([[1,2,3,4],[4,5,6,7]])\n",
    "vardiv1 = var11 / var22\n",
    "print(vardiv1)"
   ]
  },
  {
   "cell_type": "code",
   "execution_count": 54,
   "id": "a9e7318a-364d-486f-b964-7f32a8b0e9c9",
   "metadata": {},
   "outputs": [
    {
     "name": "stdout",
     "output_type": "stream",
     "text": [
      "[[0 1 1 1]\n",
      " [1 2 3 4]]\n"
     ]
    }
   ],
   "source": [
    "var11 = np.array([[2,3,4,5],[1,2,3,4]])\n",
    "var22 = np.array([[1,2,3,4],[4,5,6,7]])\n",
    "varmod1 = var11 % var22\n",
    "print(varmod1)"
   ]
  },
  {
   "cell_type": "code",
   "execution_count": 56,
   "id": "af3359b4-64db-4d4c-b92a-38ff995453a1",
   "metadata": {},
   "outputs": [
    {
     "name": "stdout",
     "output_type": "stream",
     "text": [
      "[[    2     9    64   625]\n",
      " [    1    32   729 16384]]\n"
     ]
    }
   ],
   "source": [
    "var11 = np.array([[2,3,4,5],[1,2,3,4]])\n",
    "var22 = np.array([[1,2,3,4],[4,5,6,7]])\n",
    "varpower1 = var11 ** var22\n",
    "print(varpower1)"
   ]
  },
  {
   "cell_type": "code",
   "execution_count": null,
   "id": "5548ed62-d690-4cd3-a088-ab3e26cc4dee",
   "metadata": {},
   "outputs": [],
   "source": []
  }
 ],
 "metadata": {
  "kernelspec": {
   "display_name": "Python 3 (ipykernel)",
   "language": "python",
   "name": "python3"
  },
  "language_info": {
   "codemirror_mode": {
    "name": "ipython",
    "version": 3
   },
   "file_extension": ".py",
   "mimetype": "text/x-python",
   "name": "python",
   "nbconvert_exporter": "python",
   "pygments_lexer": "ipython3",
   "version": "3.12.7"
  }
 },
 "nbformat": 4,
 "nbformat_minor": 5
}
