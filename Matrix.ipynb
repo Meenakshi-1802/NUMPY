{
 "cells": [
  {
   "cell_type": "markdown",
   "id": "75ee15af-94cb-48e2-ae4a-09109d9bde30",
   "metadata": {},
   "source": [
    "Matrix"
   ]
  },
  {
   "cell_type": "code",
   "execution_count": 2,
   "id": "c5fb5e12-8b50-4b3b-87dc-a7640f50dea1",
   "metadata": {},
   "outputs": [
    {
     "name": "stdout",
     "output_type": "stream",
     "text": [
      "[[1 2 3]\n",
      " [1 2 3]]\n",
      "<class 'numpy.matrix'>\n"
     ]
    }
   ],
   "source": [
    "import numpy as np\n",
    "var = np.matrix([[1,2,3],[1,2,3]])\n",
    "print(var)\n",
    "print(type(var))"
   ]
  },
  {
   "cell_type": "code",
   "execution_count": 4,
   "id": "92acdf26-1e7c-4a8a-828f-016abe853d97",
   "metadata": {},
   "outputs": [
    {
     "name": "stdout",
     "output_type": "stream",
     "text": [
      "[[1 2 3]\n",
      " [1 2 3]]\n",
      "<class 'numpy.ndarray'>\n"
     ]
    }
   ],
   "source": [
    "var1 = np.array([[1,2,3],[1,2,3]])\n",
    "print(var1)\n",
    "print(type(var1))\n"
   ]
  },
  {
   "cell_type": "markdown",
   "id": "e6e406e5-8c18-4161-bf3d-2065cfa910a0",
   "metadata": {},
   "source": [
    "Arithmetic opearation"
   ]
  },
  {
   "cell_type": "code",
   "execution_count": 7,
   "id": "d7f0e6f9-c23e-4c63-a384-1ca2aae9744e",
   "metadata": {},
   "outputs": [
    {
     "name": "stdout",
     "output_type": "stream",
     "text": [
      "[[1 2 3]\n",
      " [1 2 3]]\n",
      "<class 'numpy.matrix'>\n",
      "\n",
      "[[5 7 9]\n",
      " [4 6 8]]\n"
     ]
    }
   ],
   "source": [
    "import numpy as np\n",
    "var = np.matrix([[1,2,3],[1,2,3]])\n",
    "var1 = np.matrix([[4,5,6],[3,4,5]])\n",
    "print(var)\n",
    "print(type(var))\n",
    "print()\n",
    "print(var + var1)"
   ]
  },
  {
   "cell_type": "markdown",
   "id": "40fa7b57-87d0-41ea-a410-4d8d8be0c7ff",
   "metadata": {},
   "source": [
    "Multiplication"
   ]
  },
  {
   "cell_type": "code",
   "execution_count": 14,
   "id": "bd54802d-977b-48f8-ad42-e6f66c449c97",
   "metadata": {},
   "outputs": [
    {
     "name": "stdout",
     "output_type": "stream",
     "text": [
      "[[4 5 6]\n",
      " [3 4 5]]\n",
      "<class 'numpy.ndarray'>\n",
      "\n",
      "[[16 25 36]\n",
      " [ 9 16 25]]\n"
     ]
    }
   ],
   "source": [
    "var1 = np.array([[4,5,6],[3,4,5]])\n",
    "print(var1)\n",
    "print(type(var1))\n",
    "print()\n",
    "print(var1*var1)"
   ]
  },
  {
   "cell_type": "code",
   "execution_count": null,
   "id": "aa499695-4c1a-445e-8301-75afef1ff6f1",
   "metadata": {},
   "outputs": [],
   "source": []
  }
 ],
 "metadata": {
  "kernelspec": {
   "display_name": "Python 3 (ipykernel)",
   "language": "python",
   "name": "python3"
  },
  "language_info": {
   "codemirror_mode": {
    "name": "ipython",
    "version": 3
   },
   "file_extension": ".py",
   "mimetype": "text/x-python",
   "name": "python",
   "nbconvert_exporter": "python",
   "pygments_lexer": "ipython3",
   "version": "3.12.7"
  }
 },
 "nbformat": 4,
 "nbformat_minor": 5
}
