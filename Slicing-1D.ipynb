{
 "cells": [
  {
   "cell_type": "code",
   "execution_count": 3,
   "id": "745c391a-6c62-4782-a29e-19167f2ed39c",
   "metadata": {},
   "outputs": [
    {
     "name": "stdout",
     "output_type": "stream",
     "text": [
      "[20 30]\n",
      "[20 40 60]\n",
      "[70 60 50]\n",
      "[10 30 50 70]\n",
      "[10 30 50 70]\n",
      "[70 60 50 40 30 20 10]\n"
     ]
    }
   ],
   "source": [
    "import numpy as np\n",
    "array1 = np.array([10,20,30,40,50,60,70])\n",
    "print(array1[1:3])\n",
    "print(array1[1:6:2])\n",
    "print(array1[-1:-4:-1])\n",
    "print(array1[::2])\n",
    "print(array1[::2])\n",
    "print(array1[::-1])\n"
   ]
  },
  {
   "cell_type": "code",
   "execution_count": null,
   "id": "a7bbcfdb-be20-4e37-a18d-d84a04b975a6",
   "metadata": {},
   "outputs": [],
   "source": []
  }
 ],
 "metadata": {
  "kernelspec": {
   "display_name": "Python 3 (ipykernel)",
   "language": "python",
   "name": "python3"
  },
  "language_info": {
   "codemirror_mode": {
    "name": "ipython",
    "version": 3
   },
   "file_extension": ".py",
   "mimetype": "text/x-python",
   "name": "python",
   "nbconvert_exporter": "python",
   "pygments_lexer": "ipython3",
   "version": "3.12.7"
  }
 },
 "nbformat": 4,
 "nbformat_minor": 5
}
